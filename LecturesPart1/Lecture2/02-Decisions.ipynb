{
 "cells": [
  {
   "cell_type": "markdown",
   "metadata": {},
   "source": [
    "# 02 - Decisions\n",
    "\n",
    "There are three fundamental types of control structure in programming:\n",
    "\n",
    "- Sequential - executes code line-by-line (default mode)\n",
    "- Selection - executes a block of code based on a condition\n",
    "- Iterative - repeats a block of code multiple times (loops)"
   ]
  },
  {
   "cell_type": "markdown",
   "metadata": {},
   "source": [
    "<img src=\"images/control_structure.png\" width = \"70%\" align=\"left\"/>"
   ]
  },
  {
   "cell_type": "markdown",
   "metadata": {},
   "source": [
    "So far we have executed our Python programs line-by-line. However, sometimes we want to control the order that instructions (i.e., code) are executed in the program. \n",
    "\n",
    "This notebook gives an introduction to selection control in Python. In selection control, the program needs to make a *decision* based on a *condition*. These conditions are created by combining **if-statements** with **Boolean expressions**. \n"
   ]
  },
  {
   "cell_type": "code",
   "execution_count": null,
   "metadata": {},
   "outputs": [],
   "source": []
  },
  {
   "cell_type": "markdown",
   "metadata": {},
   "source": [
    "## Boolean expressions\n",
    "\n",
    "Expressions evaluating to either `True` or `False`."
   ]
  },
  {
   "cell_type": "markdown",
   "metadata": {},
   "source": [
    "Boolean expressions are created by using the Boolean data type."
   ]
  },
  {
   "cell_type": "code",
   "execution_count": null,
   "metadata": {},
   "outputs": [],
   "source": [
    "x = True \n",
    "print(x)"
   ]
  },
  {
   "cell_type": "code",
   "execution_count": null,
   "metadata": {},
   "outputs": [],
   "source": [
    "type(x)"
   ]
  },
  {
   "cell_type": "markdown",
   "metadata": {},
   "source": [
    "### Operators"
   ]
  },
  {
   "cell_type": "markdown",
   "metadata": {},
   "source": [
    "To generate a boolean expression, we must use *operators* to compare values (or expressions) to each other. "
   ]
  },
  {
   "cell_type": "markdown",
   "metadata": {},
   "source": [
    "#### 1. Relational operators:\n",
    "\n",
    "Operators that perform the \"usual\" comparison operations that we are familiar with from math.\n",
    "\n",
    "|Operator | Description                                                                        | Syntax |\n",
    "|:---     | :---                                                                               | ---    |\n",
    "|==       | Equal to: True if both values are equal                                            | x == y |\n",
    "|>        | Greater than: True if the left value is greater than the right                     | x > y  |\n",
    "|>=       | Greater than or equal to: True if left value is greater than or equal to the right | x >= y |\n",
    "|<        | Less than: True if the left value is less than the right                           | x < y  |\n",
    "|<=       | Less than or equal to: True if left value is less than or equal to the right       | x <= y |\n",
    "|!=       | Not equal to: True if the values are not equal                                     | x != y |\n"
   ]
  },
  {
   "cell_type": "code",
   "execution_count": null,
   "metadata": {},
   "outputs": [],
   "source": [
    "10 == 20"
   ]
  },
  {
   "cell_type": "code",
   "execution_count": null,
   "metadata": {},
   "outputs": [],
   "source": [
    "10 != 20"
   ]
  },
  {
   "cell_type": "code",
   "execution_count": null,
   "metadata": {},
   "outputs": [],
   "source": [
    "10 <= 20"
   ]
  },
  {
   "cell_type": "markdown",
   "metadata": {},
   "source": [
    "We can perform relational operations on variables."
   ]
  },
  {
   "cell_type": "code",
   "execution_count": null,
   "metadata": {},
   "outputs": [],
   "source": [
    "i = 10\n",
    "k = 10"
   ]
  },
  {
   "cell_type": "code",
   "execution_count": null,
   "metadata": {},
   "outputs": [],
   "source": [
    "k == i"
   ]
  },
  {
   "cell_type": "code",
   "execution_count": null,
   "metadata": {},
   "outputs": [],
   "source": [
    "k > 20"
   ]
  },
  {
   "cell_type": "markdown",
   "metadata": {},
   "source": [
    "Note that we must be careful when comparing floats. As floats have limited precision in Python, calculations can cause round-off errors."
   ]
  },
  {
   "cell_type": "code",
   "execution_count": null,
   "metadata": {},
   "outputs": [],
   "source": [
    "1 / 3 == 0.333"
   ]
  },
  {
   "cell_type": "code",
   "execution_count": null,
   "metadata": {},
   "outputs": [],
   "source": [
    "round(1 / 3, 3) == 0.333"
   ]
  },
  {
   "cell_type": "markdown",
   "metadata": {},
   "source": [
    "Relational operations can also be performed on string data.\n",
    "\n",
    "In general, for two strings to be equal to each other they must contain the *exact* sequence of characters."
   ]
  },
  {
   "cell_type": "code",
   "execution_count": null,
   "metadata": {},
   "outputs": [],
   "source": [
    "'Hello' == 'Hello'"
   ]
  },
  {
   "cell_type": "code",
   "execution_count": null,
   "metadata": {},
   "outputs": [],
   "source": [
    "'Hello' == 'HELLO'"
   ]
  },
  {
   "cell_type": "markdown",
   "metadata": {},
   "source": [
    "Note that we can use `upper` and `lower` to convert strings to lowercase and uppercase."
   ]
  },
  {
   "cell_type": "code",
   "execution_count": null,
   "metadata": {},
   "outputs": [],
   "source": [
    "str_low = 'hello'\n",
    "str_up = 'HELLO'"
   ]
  },
  {
   "cell_type": "code",
   "execution_count": null,
   "metadata": {},
   "outputs": [],
   "source": [
    "str_low.upper()"
   ]
  },
  {
   "cell_type": "code",
   "execution_count": null,
   "metadata": {},
   "outputs": [],
   "source": [
    "str_low.upper() == str_up"
   ]
  },
  {
   "cell_type": "code",
   "execution_count": null,
   "metadata": {},
   "outputs": [],
   "source": [
    "str_low == str_up.lower()"
   ]
  },
  {
   "cell_type": "markdown",
   "metadata": {},
   "source": [
    "<div class=\"alert alert-info\">\n",
    "<h3> Your turn</h3>\n",
    "    <p> Store your first name in a variable called <code>name</code> and check if your name is \"equal to\", \"less than\" and \"not equal to\" six characters.\n",
    "</div>"
   ]
  },
  {
   "cell_type": "code",
   "execution_count": null,
   "metadata": {},
   "outputs": [],
   "source": []
  },
  {
   "cell_type": "markdown",
   "metadata": {},
   "source": [
    "#### 2. Membership operators:\n",
    "\n",
    "We can use membership operators `in` and `not in` to evaluate whether a particular value occurs within a sequence of values."
   ]
  },
  {
   "cell_type": "code",
   "execution_count": null,
   "metadata": {},
   "outputs": [],
   "source": [
    "10 in [40, 20, 10]"
   ]
  },
  {
   "cell_type": "code",
   "execution_count": null,
   "metadata": {},
   "outputs": [],
   "source": [
    "10 not in [40, 20, 10]"
   ]
  },
  {
   "cell_type": "code",
   "execution_count": null,
   "metadata": {},
   "outputs": [],
   "source": [
    "grade = 'A'\n",
    "grade in ['A', 'B', 'C', 'D', 'E', 'F']"
   ]
  },
  {
   "cell_type": "code",
   "execution_count": null,
   "metadata": {},
   "outputs": [],
   "source": [
    "city = 'Bergen'\n",
    "city in ('Oslo', 'Trondheim', 'Stavanger')"
   ]
  },
  {
   "cell_type": "markdown",
   "metadata": {},
   "source": [
    "Note that the membership operator can also be used to check whether a string occurs within another string."
   ]
  },
  {
   "cell_type": "code",
   "execution_count": null,
   "metadata": {},
   "outputs": [],
   "source": [
    "'Dr.' in 'Dr. Malone'"
   ]
  },
  {
   "cell_type": "markdown",
   "metadata": {},
   "source": [
    "#### 3. Boolean operators:\n",
    "\n",
    "We can use the boolean operators to construct more complex Boolean expressions."
   ]
  },
  {
   "cell_type": "markdown",
   "metadata": {},
   "source": [
    "The `and` and `or` operators allow us to combine two or more boolean expressions into a single expression.\n",
    "\n",
    "The `and` operator is `True` *only* when all of its operands are `True` (`False` otherwise)."
   ]
  },
  {
   "cell_type": "code",
   "execution_count": null,
   "metadata": {},
   "outputs": [],
   "source": [
    "True and False"
   ]
  },
  {
   "cell_type": "code",
   "execution_count": null,
   "metadata": {},
   "outputs": [],
   "source": [
    "True and True"
   ]
  },
  {
   "cell_type": "markdown",
   "metadata": {},
   "source": [
    "The `or` operator evaluates to `True` when *at least one* its operands is `True` (`False` otherwise)."
   ]
  },
  {
   "cell_type": "code",
   "execution_count": null,
   "metadata": {},
   "outputs": [],
   "source": [
    "True or False"
   ]
  },
  {
   "cell_type": "code",
   "execution_count": null,
   "metadata": {},
   "outputs": [],
   "source": [
    "False or False"
   ]
  },
  {
   "cell_type": "markdown",
   "metadata": {},
   "source": [
    "We can use the `not` operator to reverse the truth value of the operand (or expression)."
   ]
  },
  {
   "cell_type": "code",
   "execution_count": null,
   "metadata": {},
   "outputs": [],
   "source": [
    "not(True)"
   ]
  },
  {
   "cell_type": "code",
   "execution_count": null,
   "metadata": {},
   "outputs": [],
   "source": [
    "not(True) and False"
   ]
  },
  {
   "cell_type": "code",
   "execution_count": null,
   "metadata": {},
   "outputs": [],
   "source": [
    "not(True and False)"
   ]
  },
  {
   "cell_type": "markdown",
   "metadata": {},
   "source": [
    "In boolean expression, we often combine boolean operations with relational operations."
   ]
  },
  {
   "cell_type": "code",
   "execution_count": null,
   "metadata": {},
   "outputs": [],
   "source": [
    "(10 < 0) and (10 > 2) # False and True"
   ]
  },
  {
   "cell_type": "code",
   "execution_count": null,
   "metadata": {},
   "outputs": [],
   "source": [
    "(10 < 0) or (10 > 2) # False or True"
   ]
  },
  {
   "cell_type": "code",
   "execution_count": null,
   "metadata": {},
   "outputs": [],
   "source": [
    "not(10 < 0) or (10 > 2) # not(False) or True"
   ]
  },
  {
   "cell_type": "code",
   "execution_count": null,
   "metadata": {},
   "outputs": [],
   "source": [
    "not((10 < 0) or (10 > 2)) # not(False or True)"
   ]
  },
  {
   "cell_type": "markdown",
   "metadata": {},
   "source": [
    "<div class=\"alert alert-info\">\n",
    "<h3> Your turn</h3>\n",
    "    <p> Store your first name in a variable called <code>name</code> and the name of the month of your birthday in a variable called <code>month</code>. Check whether your first name is less then or equal to six characters and if your birthday is in the summer (June, July and August).\n",
    "</div>"
   ]
  },
  {
   "cell_type": "code",
   "execution_count": null,
   "metadata": {},
   "outputs": [],
   "source": []
  },
  {
   "cell_type": "markdown",
   "metadata": {},
   "source": [
    "## Analyzing strings\n",
    "\n",
    "In addition to comparing strings using the relational and membership operators, Python offers several functions that evaluate a string and return a boolean value."
   ]
  },
  {
   "cell_type": "code",
   "execution_count": null,
   "metadata": {},
   "outputs": [],
   "source": [
    "username = 'CopyCat1337'"
   ]
  },
  {
   "cell_type": "markdown",
   "metadata": {},
   "source": [
    "`startwith` returns `True` if the string starts with the specified substring, `False` otherwise."
   ]
  },
  {
   "cell_type": "code",
   "execution_count": null,
   "metadata": {},
   "outputs": [],
   "source": [
    "username.startswith('C')"
   ]
  },
  {
   "cell_type": "markdown",
   "metadata": {},
   "source": [
    "`isspace` returns `True` if the string contains only space, `False` otherwise."
   ]
  },
  {
   "cell_type": "code",
   "execution_count": null,
   "metadata": {},
   "outputs": [],
   "source": [
    "username.isspace()"
   ]
  },
  {
   "cell_type": "markdown",
   "metadata": {},
   "source": [
    "`isdigit` returns `True` if the string contains only digits, `False` otherwise."
   ]
  },
  {
   "cell_type": "code",
   "execution_count": null,
   "metadata": {},
   "outputs": [],
   "source": [
    "username.isdigit()"
   ]
  },
  {
   "cell_type": "markdown",
   "metadata": {},
   "source": [
    "`islower` returns `True` is string contains only lowercase letters, `False` otherwise."
   ]
  },
  {
   "cell_type": "code",
   "execution_count": null,
   "metadata": {},
   "outputs": [],
   "source": [
    "username.islower()"
   ]
  },
  {
   "cell_type": "markdown",
   "metadata": {},
   "source": [
    "Other functions evaluate the string, but does not return a Boolean value."
   ]
  },
  {
   "cell_type": "markdown",
   "metadata": {},
   "source": [
    "`count` returns the number of occurrences of a specified substring."
   ]
  },
  {
   "cell_type": "code",
   "execution_count": null,
   "metadata": {},
   "outputs": [],
   "source": [
    "username.count('C')"
   ]
  },
  {
   "cell_type": "code",
   "execution_count": null,
   "metadata": {},
   "outputs": [],
   "source": [
    "username.count('Cat')"
   ]
  },
  {
   "cell_type": "markdown",
   "metadata": {},
   "source": [
    "`find` returns the index of the beginning of a specified substring (returns `-1` if substring not found)."
   ]
  },
  {
   "cell_type": "code",
   "execution_count": null,
   "metadata": {},
   "outputs": [],
   "source": [
    "username.find('Cat')"
   ]
  },
  {
   "cell_type": "markdown",
   "metadata": {},
   "source": [
    "Note that we can use these string-specific functions to form Boolean expression."
   ]
  },
  {
   "cell_type": "code",
   "execution_count": null,
   "metadata": {},
   "outputs": [],
   "source": [
    "(username.startswith('C')) and (username.count('C') > 1) # True and True"
   ]
  },
  {
   "cell_type": "code",
   "execution_count": null,
   "metadata": {},
   "outputs": [],
   "source": [
    "(username.isspace()) or (username.find('Dog') != -1) # False or False"
   ]
  },
  {
   "cell_type": "code",
   "execution_count": null,
   "metadata": {},
   "outputs": [],
   "source": []
  },
  {
   "cell_type": "markdown",
   "metadata": {},
   "source": [
    "## If-statements\n",
    "\n",
    "`if` statements allow us to select which part of the code to execute based on a condition.\n",
    "\n",
    "The statement consists of a header starting with the `if` keyword, followed by a boolean condition and a colon (:), and its associated block of code.\n",
    "\n",
    "**Syntax**:\n",
    "```\n",
    "if <condition>:\n",
    "\n",
    "    <statements>\n",
    "\n",
    "```\n",
    "\n",
    "The block of code is indented relative to its header, and it will be executed only if the Boolean condition is `True`."
   ]
  },
  {
   "cell_type": "code",
   "execution_count": null,
   "metadata": {},
   "outputs": [],
   "source": [
    "score = 70"
   ]
  },
  {
   "cell_type": "code",
   "execution_count": null,
   "metadata": {},
   "outputs": [],
   "source": [
    "if score == 100:\n",
    "    print('Full score!')"
   ]
  },
  {
   "cell_type": "markdown",
   "metadata": {},
   "source": [
    "Note that all code *outside* of the indented code block will still be executed even if the condition is not true."
   ]
  },
  {
   "cell_type": "code",
   "execution_count": null,
   "metadata": {},
   "outputs": [],
   "source": [
    "if score == 100:\n",
    "    print('Full score!')\n",
    "    \n",
    "print('Always print this.')    "
   ]
  },
  {
   "cell_type": "markdown",
   "metadata": {},
   "source": [
    "We can add alternative instructions (i.e., code) by combining an `if` statement with an `else` statement.\n",
    "\n",
    "The code inside the `else` statement will only be executed if the condition in the `if` statement is not `True`. Note that the `else` statement does not take a condition."
   ]
  },
  {
   "cell_type": "code",
   "execution_count": null,
   "metadata": {},
   "outputs": [],
   "source": [
    "if score == 100:\n",
    "    print('Full score!')\n",
    "    \n",
    "else:\n",
    "    print('Not full score.')"
   ]
  },
  {
   "cell_type": "markdown",
   "metadata": {},
   "source": [
    "In addition to the boolean operators (e.g. `<=`), we can also use the membership operator `in` in an `if` statement."
   ]
  },
  {
   "cell_type": "code",
   "execution_count": null,
   "metadata": {},
   "outputs": [],
   "source": [
    "'C' in ['A', 'B', 'C', 'D', 'E']"
   ]
  },
  {
   "cell_type": "code",
   "execution_count": null,
   "metadata": {},
   "outputs": [],
   "source": [
    "passing_grades = ['A', 'B', 'C', 'D', 'E']\n",
    "grade = 'C'\n",
    "\n",
    "if grade in passing_grades:\n",
    "    print('You have received a passing grade')\n",
    "    \n",
    "else:\n",
    "    print('You have not recieved a passing grade.')"
   ]
  },
  {
   "cell_type": "markdown",
   "metadata": {},
   "source": [
    "We have already seen that we can test for multiple conditions simultanously using the `and` and `or` keywords."
   ]
  },
  {
   "cell_type": "code",
   "execution_count": null,
   "metadata": {},
   "outputs": [],
   "source": [
    "score = 70\n",
    "\n",
    "(score < 90) & (score >= 80)"
   ]
  },
  {
   "cell_type": "code",
   "execution_count": null,
   "metadata": {},
   "outputs": [],
   "source": [
    "score = 70\n",
    "#score = 84\n",
    "\n",
    "if (score < 90) and (score >= 80):\n",
    "    print('Grade: B')\n",
    "\n",
    "else:\n",
    "    print('Grade is not B.')"
   ]
  },
  {
   "cell_type": "code",
   "execution_count": null,
   "metadata": {},
   "outputs": [],
   "source": [
    "score = 70\n",
    "#score = 102\n",
    "\n",
    "if (score < 0) or (score > 100):\n",
    "    print('Invalid score!')\n",
    "\n",
    "else:\n",
    "    print('Valid score.')"
   ]
  },
  {
   "cell_type": "markdown",
   "metadata": {},
   "source": [
    "It is not only `print` statements that we can place inside the `if` statements, but we can perform any type of Python operation."
   ]
  },
  {
   "cell_type": "code",
   "execution_count": null,
   "metadata": {},
   "outputs": [],
   "source": [
    "if score >= 60:\n",
    "    valid = True\n",
    "    \n",
    "else:\n",
    "    valid = False\n",
    "    \n",
    "print(valid)"
   ]
  },
  {
   "cell_type": "markdown",
   "metadata": {},
   "source": [
    "<div class=\"alert alert-info\">\n",
    "<h3> Your turn</h3>\n",
    "    <p> Write an <code>if</code>code>-statement that checks whether a string variable called <code>choice</code> contains only digits. If the variable contains only digits, multiply the variable with two and print the result of the operation. Otherwise, print that the variable is not a number.\n",
    "</div>"
   ]
  },
  {
   "cell_type": "code",
   "execution_count": null,
   "metadata": {},
   "outputs": [],
   "source": []
  },
  {
   "cell_type": "markdown",
   "metadata": {},
   "source": [
    "Note that `if` statements cannot be empty, but if you for some reason have an `if` statement with no content, you can use the `pass` statement to avoid an error."
   ]
  },
  {
   "cell_type": "code",
   "execution_count": null,
   "metadata": {},
   "outputs": [],
   "source": [
    "score = 70\n",
    "#score = 102\n",
    "\n",
    "if (score >= 0) and (score <= 100):\n",
    "    pass\n",
    "else:\n",
    "    print('Not valid score!')"
   ]
  },
  {
   "cell_type": "markdown",
   "metadata": {},
   "source": [
    "### Nested `if` statements\n",
    "\n",
    "In programming, we often want to select the code to execute based on something more than a single `if` statement. In that case, we can \"nest\" multiple `if` statements to create a more complex selection structure. \n",
    "\n",
    "An `if` statement is nested by placing it inside the `else` statement of the prior `if` statement. In general, we can nest as many `if` statements as we want as long as they are all *mutually exclusive*."
   ]
  },
  {
   "cell_type": "code",
   "execution_count": null,
   "metadata": {},
   "outputs": [],
   "source": [
    "score = 85"
   ]
  },
  {
   "cell_type": "code",
   "execution_count": null,
   "metadata": {},
   "outputs": [],
   "source": [
    "if score >= 90: \n",
    "    print('Grade: A')\n",
    "    \n",
    "else:\n",
    "    if score >= 80: \n",
    "        print('Grade: B')\n",
    "        \n",
    "    else:\n",
    "        if score >= 70: \n",
    "            print('Grade: C') \n",
    "            \n",
    "        else:\n",
    "            print('Grade is not A, B or C.')"
   ]
  },
  {
   "cell_type": "markdown",
   "metadata": {},
   "source": [
    "<div class=\"alert alert-info\">\n",
    "<h3> Your turn</h3>\n",
    "    <p> Add more nested <code>if</code> statements to the code above so that we also test whether the grade is D or E. \n",
    "        \n",
    "Assume that a score of 60-69 results in a D, while a score of 50-59 results in an E.\n",
    "</div>"
   ]
  },
  {
   "cell_type": "code",
   "execution_count": null,
   "metadata": {},
   "outputs": [],
   "source": []
  },
  {
   "cell_type": "markdown",
   "metadata": {},
   "source": [
    "### `if` statement + `elif` statements\n",
    "\n",
    "However, nested `if` statements can quickly become very messy. When you have multiple conditions to test, a good alternative is to instead combine the initial `if` statement with one or several `elif` statements."
   ]
  },
  {
   "cell_type": "markdown",
   "metadata": {},
   "source": [
    "The program will terminate after the first `if` statement that is evaluated to be `True`. The program should end with a \"catch-all\" `else` statement."
   ]
  },
  {
   "cell_type": "code",
   "execution_count": null,
   "metadata": {},
   "outputs": [],
   "source": [
    "score = 85"
   ]
  },
  {
   "cell_type": "code",
   "execution_count": null,
   "metadata": {},
   "outputs": [],
   "source": [
    "if score >= 90:\n",
    "    print('Grade: A')\n",
    "    \n",
    "elif score >= 80:\n",
    "    print('Grade: B')\n",
    "    \n",
    "elif score >= 70:\n",
    "    print('Grade: C')\n",
    "    \n",
    "else:\n",
    "    print('Grade is not A, B or C.')"
   ]
  },
  {
   "cell_type": "markdown",
   "metadata": {},
   "source": [
    "<div class=\"alert alert-info\">\n",
    "<h3> Your turn</h3>\n",
    "    <p> In the US, people can drive when they turn 16, vote when they turn 18 and drink when they turn 21. \n",
    "        \n",
    "Create a series of <code>if</code> and <code>elif</code> statements that print whether a person can drive, drink and/or vote for a given value on an <code>age</code> variable. Remember to end with an <code>else</code> statement.\n",
    "       \n",
    "</div>"
   ]
  },
  {
   "cell_type": "code",
   "execution_count": null,
   "metadata": {},
   "outputs": [],
   "source": []
  },
  {
   "cell_type": "markdown",
   "metadata": {},
   "source": [
    "Note that there is a difference between combining an `if` statement with `elif` statements, and combining multiple `if` statements... In general, we should use `if` +`elif` statements when we want the program to terminate once it encounters the *first* condition that is `True`. "
   ]
  },
  {
   "cell_type": "code",
   "execution_count": null,
   "metadata": {},
   "outputs": [],
   "source": [
    "score = 85\n",
    "\n",
    "if score >= 90:\n",
    "    print('Grade: A')\n",
    "    \n",
    "if score >= 80:\n",
    "    print('Grade: B')\n",
    "    \n",
    "if score >= 70:\n",
    "    print('Grade: C')\n",
    "    \n",
    "else:\n",
    "    print('Grade is not A, B or C.')"
   ]
  },
  {
   "cell_type": "code",
   "execution_count": null,
   "metadata": {},
   "outputs": [],
   "source": []
  },
  {
   "cell_type": "code",
   "execution_count": null,
   "metadata": {},
   "outputs": [],
   "source": []
  }
 ],
 "metadata": {
  "kernelspec": {
   "display_name": "Python 3 (ipykernel)",
   "language": "python",
   "name": "python3"
  },
  "language_info": {
   "codemirror_mode": {
    "name": "ipython",
    "version": 3
   },
   "file_extension": ".py",
   "mimetype": "text/x-python",
   "name": "python",
   "nbconvert_exporter": "python",
   "pygments_lexer": "ipython3",
   "version": "3.12.4"
  }
 },
 "nbformat": 4,
 "nbformat_minor": 4
}
